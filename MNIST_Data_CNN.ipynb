{
  "nbformat": 4,
  "nbformat_minor": 0,
  "metadata": {
    "colab": {
      "name": "MNIST Data-CNN",
      "provenance": []
    },
    "kernelspec": {
      "name": "python3",
      "display_name": "Python 3"
    },
    "accelerator": "GPU"
  },
  "cells": [
    {
      "cell_type": "code",
      "metadata": {
        "id": "fo3T9yTg8Q92",
        "colab_type": "code",
        "colab": {}
      },
      "source": [
        "from keras.datasets import mnist \n",
        "# from mnist.loader import MNIST"
      ],
      "execution_count": 37,
      "outputs": []
    },
    {
      "cell_type": "code",
      "metadata": {
        "id": "qzM-PGIp8w-S",
        "colab_type": "code",
        "colab": {}
      },
      "source": [
        "import matplotlib.pyplot as plt #For visualizing the hand-written images\n",
        "%matplotlib inline"
      ],
      "execution_count": 38,
      "outputs": []
    },
    {
      "cell_type": "code",
      "metadata": {
        "id": "_6aLNSO69bHH",
        "colab_type": "code",
        "colab": {}
      },
      "source": [
        "(X_train,y_train),(x_test,y_test) = mnist.load_data()"
      ],
      "execution_count": 39,
      "outputs": []
    },
    {
      "cell_type": "code",
      "metadata": {
        "id": "N1TgIVNg_Dkv",
        "colab_type": "code",
        "colab": {
          "base_uri": "https://localhost:8080/",
          "height": 34
        },
        "outputId": "34720905-77fb-48c2-f7a1-e8412794cefd"
      },
      "source": [
        "X_train.shape"
      ],
      "execution_count": 40,
      "outputs": [
        {
          "output_type": "execute_result",
          "data": {
            "text/plain": [
              "(60000, 28, 28)"
            ]
          },
          "metadata": {
            "tags": []
          },
          "execution_count": 40
        }
      ]
    },
    {
      "cell_type": "code",
      "metadata": {
        "id": "PjMaMiPd_HPB",
        "colab_type": "code",
        "colab": {
          "base_uri": "https://localhost:8080/",
          "height": 34
        },
        "outputId": "15f94df6-f4bc-4ed0-db4d-e245bcd36ab6"
      },
      "source": [
        "x_test.shape"
      ],
      "execution_count": 41,
      "outputs": [
        {
          "output_type": "execute_result",
          "data": {
            "text/plain": [
              "(10000, 28, 28)"
            ]
          },
          "metadata": {
            "tags": []
          },
          "execution_count": 41
        }
      ]
    },
    {
      "cell_type": "markdown",
      "metadata": {
        "id": "SVr8PY-e_7DR",
        "colab_type": "text"
      },
      "source": [
        "y_test.shape"
      ]
    },
    {
      "cell_type": "code",
      "metadata": {
        "id": "q46G0lQd_Lqg",
        "colab_type": "code",
        "colab": {
          "base_uri": "https://localhost:8080/",
          "height": 282
        },
        "outputId": "e1950702-6262-45c8-d0cd-065bbdff47b3"
      },
      "source": [
        "plt.imshow(X_train[0],cmap = 'gray_r')"
      ],
      "execution_count": 42,
      "outputs": [
        {
          "output_type": "execute_result",
          "data": {
            "text/plain": [
              "<matplotlib.image.AxesImage at 0x7fe0b63bce80>"
            ]
          },
          "metadata": {
            "tags": []
          },
          "execution_count": 42
        },
        {
          "output_type": "display_data",
          "data": {
            "image/png": "[encoded data removed]",
            "text/plain": [
              "<Figure size 432x288 with 1 Axes>"
            ]
          },
          "metadata": {
            "tags": [],
            "needs_background": "light"
          }
        }
      ]
    },
    {
      "cell_type": "code",
      "metadata": {
        "id": "jDqiui2K_Wv1",
        "colab_type": "code",
        "colab": {}
      },
      "source": [
        "from keras.utils.np_utils import to_categorical"
      ],
      "execution_count": 43,
      "outputs": []
    },
    {
      "cell_type": "code",
      "metadata": {
        "id": "GiAakhI9_usp",
        "colab_type": "code",
        "colab": {}
      },
      "source": [
        "y_cat_test = to_categorical(y_test,10)\n",
        "y_cat_train = to_categorical(y_train,10)"
      ],
      "execution_count": 44,
      "outputs": []
    },
    {
      "cell_type": "code",
      "metadata": {
        "id": "cOvGE3BeAD6F",
        "colab_type": "code",
        "colab": {
          "base_uri": "https://localhost:8080/",
          "height": 34
        },
        "outputId": "77b3a98c-6c93-4ae9-e77f-78105821f1bb"
      },
      "source": [
        "y_cat_test.shape"
      ],
      "execution_count": 45,
      "outputs": [
        {
          "output_type": "execute_result",
          "data": {
            "text/plain": [
              "(10000, 10)"
            ]
          },
          "metadata": {
            "tags": []
          },
          "execution_count": 45
        }
      ]
    },
    {
      "cell_type": "code",
      "metadata": {
        "id": "KcUNFfHaAJhV",
        "colab_type": "code",
        "colab": {
          "base_uri": "https://localhost:8080/",
          "height": 84
        },
        "outputId": "0f6b6974-4340-4fc1-f166-88d148305920"
      },
      "source": [
        "#Processing the X_data or the featured data\n",
        "print(X_train[0].max())\n",
        "print(x_test[0].max())\n",
        "#Standardizing the X_data(Normalizing)\n",
        "X_train = X_train/X_train.max()\n",
        "x_test = x_test/x_test.max()\n",
        "\n",
        "print(x_test[0].max())\n",
        "print(X_train[0].max())"
      ],
      "execution_count": 46,
      "outputs": [
        {
          "output_type": "stream",
          "text": [
            "255\n",
            "255\n",
            "1.0\n",
            "1.0\n"
          ],
          "name": "stdout"
        }
      ]
    },
    {
      "cell_type": "code",
      "metadata": {
        "id": "en1Eibt5F28L",
        "colab_type": "code",
        "colab": {
          "base_uri": "https://localhost:8080/",
          "height": 34
        },
        "outputId": "8a30f9a7-2164-49f0-cd2a-0a4f3747c49d"
      },
      "source": [
        "X_train = X_train.reshape((60000, 28, 28,1))\n",
        "X_train.shape\n"
      ],
      "execution_count": 47,
      "outputs": [
        {
          "output_type": "execute_result",
          "data": {
            "text/plain": [
              "(60000, 28, 28, 1)"
            ]
          },
          "metadata": {
            "tags": []
          },
          "execution_count": 47
        }
      ]
    },
    {
      "cell_type": "code",
      "metadata": {
        "id": "IJtNshrwGQ4d",
        "colab_type": "code",
        "colab": {
          "base_uri": "https://localhost:8080/",
          "height": 34
        },
        "outputId": "c0ef88a8-9664-4131-d630-9fb3693d5953"
      },
      "source": [
        "x_test = x_test.reshape((10000, 28, 28,1))\n",
        "x_test.shape\n"
      ],
      "execution_count": 48,
      "outputs": [
        {
          "output_type": "execute_result",
          "data": {
            "text/plain": [
              "(10000, 28, 28, 1)"
            ]
          },
          "metadata": {
            "tags": []
          },
          "execution_count": 48
        }
      ]
    },
    {
      "cell_type": "code",
      "metadata": {
        "id": "qMhlWoTJGdZe",
        "colab_type": "code",
        "colab": {}
      },
      "source": [
        "#Building the neural network\n",
        "\n",
        "from keras.models import Sequential\n",
        "from keras.layers import Dense,Conv2D,MaxPool2D,Flatten\n",
        "\n",
        "model = Sequential()\n",
        "\n",
        "#Convolutional layer\n",
        "model.add(Conv2D(filters = 32,kernel_size = (4,4),input_shape = (28, 28, 1),activation='relu',))\n",
        "\n",
        "#Pooling layer\n",
        "model.add(MaxPool2D(pool_size = (2,2)))\n",
        "\n",
        "#Flattening 2D image --> 1D image\n",
        "model.add(Flatten())\n",
        "\n",
        "#Now,adding the Dense layers\n",
        "model.add(Dense(128,activation = 'relu'))\n",
        "\n",
        "#Output layer\n",
        "model.add(Dense(10,activation = 'softmax'))\n",
        "\n",
        "\n"
      ],
      "execution_count": 54,
      "outputs": []
    },
    {
      "cell_type": "code",
      "metadata": {
        "id": "oQCL65IdJqz8",
        "colab_type": "code",
        "colab": {}
      },
      "source": [
        "model.compile(loss='categorical_crossentropy',\n",
        "              optimizer='rmsprop',\n",
        "              metrics=['accuracy'])"
      ],
      "execution_count": 57,
      "outputs": []
    },
    {
      "cell_type": "code",
      "metadata": {
        "id": "BKc9zIo3Lilk",
        "colab_type": "code",
        "colab": {
          "base_uri": "https://localhost:8080/",
          "height": 319
        },
        "outputId": "bbb8036e-1da1-4a5b-8eb9-195b30fc1b56"
      },
      "source": [
        "\n",
        "\n",
        "model.summary()"
      ],
      "execution_count": 58,
      "outputs": [
        {
          "output_type": "stream",
          "text": [
            "Model: \"sequential_6\"\n",
            "_________________________________________________________________\n",
            "Layer (type)                 Output Shape              Param #   \n",
            "=================================================================\n",
            "conv2d_4 (Conv2D)            (None, 25, 25, 32)        544       \n",
            "_________________________________________________________________\n",
            "max_pooling2d_4 (MaxPooling2 (None, 12, 12, 32)        0         \n",
            "_________________________________________________________________\n",
            "flatten_4 (Flatten)          (None, 4608)              0         \n",
            "_________________________________________________________________\n",
            "dense_8 (Dense)              (None, 128)               589952    \n",
            "_________________________________________________________________\n",
            "dense_9 (Dense)              (None, 10)                1290      \n",
            "=================================================================\n",
            "Total params: 591,786\n",
            "Trainable params: 591,786\n",
            "Non-trainable params: 0\n",
            "_________________________________________________________________\n"
          ],
          "name": "stdout"
        }
      ]
    },
    {
      "cell_type": "code",
      "metadata": {
        "id": "1553jhbBJ2qw",
        "colab_type": "code",
        "colab": {
          "base_uri": "https://localhost:8080/",
          "height": 101
        },
        "outputId": "44243b70-f09f-414c-ba4c-d387b23928cb"
      },
      "source": [
        "model.fit(X_train,y_cat_train,epochs = 2) "
      ],
      "execution_count": 59,
      "outputs": [
        {
          "output_type": "stream",
          "text": [
            "Epoch 1/2\n",
            "1875/1875 [==============================] - 4s 2ms/step - loss: 0.1367 - accuracy: 0.9580\n",
            "Epoch 2/2\n",
            "1875/1875 [==============================] - 4s 2ms/step - loss: 0.0495 - accuracy: 0.9853\n"
          ],
          "name": "stdout"
        },
        {
          "output_type": "execute_result",
          "data": {
            "text/plain": [
              "<tensorflow.python.keras.callbacks.History at 0x7fe0b61cc748>"
            ]
          },
          "metadata": {
            "tags": []
          },
          "execution_count": 59
        }
      ]
    },
    {
      "cell_type": "code",
      "metadata": {
        "id": "YRfymYycevD5",
        "colab_type": "code",
        "colab": {
          "base_uri": "https://localhost:8080/",
          "height": 34
        },
        "outputId": "70b56941-cc54-482e-957a-8e41029e380c"
      },
      "source": [
        "#Evaluating the model \n",
        "from sklearn.metrics import classification_report\n",
        "\n",
        "model.metrics_names"
      ],
      "execution_count": 64,
      "outputs": [
        {
          "output_type": "execute_result",
          "data": {
            "text/plain": [
              "['loss', 'accuracy']"
            ]
          },
          "metadata": {
            "tags": []
          },
          "execution_count": 64
        }
      ]
    },
    {
      "cell_type": "code",
      "metadata": {
        "id": "zVvCHWD5j1vH",
        "colab_type": "code",
        "colab": {
          "base_uri": "https://localhost:8080/",
          "height": 50
        },
        "outputId": "d8bbceda-1d36-43f0-8e13-a3e5c4712961"
      },
      "source": [
        "model.evaluate(x_test,y_cat_test)\n"
      ],
      "execution_count": 65,
      "outputs": [
        {
          "output_type": "stream",
          "text": [
            "313/313 [==============================] - 1s 2ms/step - loss: 0.0415 - accuracy: 0.9860\n"
          ],
          "name": "stdout"
        },
        {
          "output_type": "execute_result",
          "data": {
            "text/plain": [
              "[0.04150243103504181, 0.9860000014305115]"
            ]
          },
          "metadata": {
            "tags": []
          },
          "execution_count": 65
        }
      ]
    },
    {
      "cell_type": "code",
      "metadata": {
        "id": "TR76XKj8j8w_",
        "colab_type": "code",
        "colab": {
          "base_uri": "https://localhost:8080/",
          "height": 87
        },
        "outputId": "c214ab35-120b-488a-9924-f87ca0a55b0a"
      },
      "source": [
        "predictions = model.predict_classes(x_test)"
      ],
      "execution_count": 66,
      "outputs": [
        {
          "output_type": "stream",
          "text": [
            "WARNING:tensorflow:From <ipython-input-66-7de0541c035a>:1: Sequential.predict_classes (from tensorflow.python.keras.engine.sequential) is deprecated and will be removed after 2021-01-01.\n",
            "Instructions for updating:\n",
            "Please use instead:* `np.argmax(model.predict(x), axis=-1)`,   if your model does multi-class classification   (e.g. if it uses a `softmax` last-layer activation).* `(model.predict(x) > 0.5).astype(\"int32\")`,   if your model does binary classification   (e.g. if it uses a `sigmoid` last-layer activation).\n"
          ],
          "name": "stdout"
        }
      ]
    },
    {
      "cell_type": "code",
      "metadata": {
        "id": "d1k3kyuLkHq0",
        "colab_type": "code",
        "colab": {
          "base_uri": "https://localhost:8080/",
          "height": 302
        },
        "outputId": "b1c4e3ee-4076-4640-9644-ed69c8d57ec9"
      },
      "source": [
        "print(classification_report(y_test,predictions))"
      ],
      "execution_count": 67,
      "outputs": [
        {
          "output_type": "stream",
          "text": [
            "              precision    recall  f1-score   support\n",
            "\n",
            "           0       0.98      1.00      0.99       980\n",
            "           1       0.98      1.00      0.99      1135\n",
            "           2       0.98      0.98      0.98      1032\n",
            "           3       0.99      0.99      0.99      1010\n",
            "           4       0.99      0.99      0.99       982\n",
            "           5       0.99      0.99      0.99       892\n",
            "           6       1.00      0.98      0.99       958\n",
            "           7       0.98      0.99      0.98      1028\n",
            "           8       0.99      0.98      0.98       974\n",
            "           9       0.98      0.98      0.98      1009\n",
            "\n",
            "    accuracy                           0.99     10000\n",
            "   macro avg       0.99      0.99      0.99     10000\n",
            "weighted avg       0.99      0.99      0.99     10000\n",
            "\n"
          ],
          "name": "stdout"
        }
      ]
    }
  ]
}